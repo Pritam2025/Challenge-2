{
 "cells": [
  {
   "cell_type": "markdown",
   "id": "d683e98b",
   "metadata": {},
   "source": [
    "# 1. print the data type of variable x"
   ]
  },
  {
   "cell_type": "code",
   "execution_count": 3,
   "id": "53be76ac",
   "metadata": {},
   "outputs": [
    {
     "data": {
      "text/plain": [
       "int"
      ]
     },
     "execution_count": 3,
     "metadata": {},
     "output_type": "execute_result"
    }
   ],
   "source": [
    "x=8\n",
    "type(x)"
   ]
  },
  {
   "cell_type": "markdown",
   "id": "f719989b",
   "metadata": {},
   "source": [
    "# 2. what will be datatype of following variable, mention answer in comments\n"
   ]
  },
  {
   "cell_type": "code",
   "execution_count": null,
   "id": "9baf2096",
   "metadata": {},
   "outputs": [],
   "source": [
    "var = 'visionnlp'\n",
    "##str"
   ]
  },
  {
   "cell_type": "markdown",
   "id": "b609435b",
   "metadata": {},
   "source": [
    "# 3. Insert the correct syntax to convert x into a int data type.\n"
   ]
  },
  {
   "cell_type": "markdown",
   "id": "b00e8142",
   "metadata": {},
   "source": [
    "# x = 10.44\n",
    "int(x)"
   ]
  },
  {
   "cell_type": "markdown",
   "id": "eae0ea3d",
   "metadata": {},
   "source": [
    "# 4. Convert x into string\n"
   ]
  },
  {
   "cell_type": "code",
   "execution_count": 7,
   "id": "37437f80",
   "metadata": {},
   "outputs": [
    {
     "data": {
      "text/plain": [
       "'65'"
      ]
     },
     "execution_count": 7,
     "metadata": {},
     "output_type": "execute_result"
    }
   ],
   "source": [
    "x=65\n",
    "str(x)"
   ]
  },
  {
   "cell_type": "markdown",
   "id": "8d143476",
   "metadata": {},
   "source": [
    "# 5. Multipy 10 with 5, and print the result.\n"
   ]
  },
  {
   "cell_type": "code",
   "execution_count": 8,
   "id": "c0c74779",
   "metadata": {},
   "outputs": [
    {
     "data": {
      "text/plain": [
       "50"
      ]
     },
     "execution_count": 8,
     "metadata": {},
     "output_type": "execute_result"
    }
   ],
   "source": [
    "10*5"
   ]
  },
  {
   "cell_type": "markdown",
   "id": "a2691756",
   "metadata": {},
   "source": [
    "# 6. Use assignment operator and Perform Multiplication x and y values and store it in x\n"
   ]
  },
  {
   "cell_type": "code",
   "execution_count": 10,
   "id": "258c5afa",
   "metadata": {},
   "outputs": [
    {
     "name": "stdout",
     "output_type": "stream",
     "text": [
      "x:  125\n"
     ]
    }
   ],
   "source": [
    "x=25\n",
    "y=5\n",
    "x*=y\n",
    "print('x: ',x)"
   ]
  },
  {
   "cell_type": "markdown",
   "id": "ade83177",
   "metadata": {},
   "source": [
    "# 7. Correct the following statement\n"
   ]
  },
  {
   "cell_type": "code",
   "execution_count": 11,
   "id": "aa60cf3e",
   "metadata": {},
   "outputs": [
    {
     "data": {
      "text/plain": [
       "True"
      ]
     },
     "execution_count": 11,
     "metadata": {},
     "output_type": "execute_result"
    }
   ],
   "source": [
    "x=x+6>3\n",
    "x"
   ]
  },
  {
   "cell_type": "markdown",
   "id": "26c729fb",
   "metadata": {},
   "source": [
    "# 8. Correct the following line\n"
   ]
  },
  {
   "cell_type": "code",
   "execution_count": 12,
   "id": "68a9475e",
   "metadata": {},
   "outputs": [
    {
     "data": {
      "text/plain": [
       "True"
      ]
     },
     "execution_count": 12,
     "metadata": {},
     "output_type": "execute_result"
    }
   ],
   "source": [
    "x = 9\n",
    "y = 6\n",
    "\n",
    "x >= y"
   ]
  },
  {
   "cell_type": "markdown",
   "id": "48757bd7",
   "metadata": {},
   "source": [
    "# 9. list out different data types\n"
   ]
  },
  {
   "cell_type": "code",
   "execution_count": null,
   "id": "494eb191",
   "metadata": {},
   "outputs": [],
   "source": [
    "'str' 'int' 'float' 'boolean'\n",
    "\n"
   ]
  },
  {
   "cell_type": "markdown",
   "id": "d686874d",
   "metadata": {},
   "source": [
    "# 10. Add and display/print few examples of your choice of arithmetic operatios"
   ]
  },
  {
   "cell_type": "code",
   "execution_count": 13,
   "id": "5bfafdf0",
   "metadata": {},
   "outputs": [
    {
     "name": "stdout",
     "output_type": "stream",
     "text": [
      "7\n"
     ]
    }
   ],
   "source": [
    "print(10-3)"
   ]
  },
  {
   "cell_type": "code",
   "execution_count": 14,
   "id": "ba797332",
   "metadata": {},
   "outputs": [
    {
     "name": "stdout",
     "output_type": "stream",
     "text": [
      "45\n"
     ]
    }
   ],
   "source": [
    "print(5*9)"
   ]
  }
 ],
 "metadata": {
  "kernelspec": {
   "display_name": "Python 3 (ipykernel)",
   "language": "python",
   "name": "python3"
  },
  "language_info": {
   "codemirror_mode": {
    "name": "ipython",
    "version": 3
   },
   "file_extension": ".py",
   "mimetype": "text/x-python",
   "name": "python",
   "nbconvert_exporter": "python",
   "pygments_lexer": "ipython3",
   "version": "3.9.12"
  }
 },
 "nbformat": 4,
 "nbformat_minor": 5
}
